{
 "cells": [
  {
   "cell_type": "code",
   "execution_count": 2,
   "metadata": {},
   "outputs": [],
   "source": [
    "# 모듈을 읽어들입니다.\n",
    "import csv\n",
    "import pickle\n",
    "\n",
    "import gensim\n",
    "from gensim import models\n",
    "from sklearn.linear_model import LogisticRegression\n",
    "from sklearn.model_selection import train_test_split\n",
    "from sklearn.metrics import classification_report\n",
    "from sklearn.metrics import confusion_matrix"
   ]
  },
  {
   "cell_type": "code",
   "execution_count": 3,
   "metadata": {},
   "outputs": [],
   "source": [
    "dataset_file_name = './dataset/corpus.csv'\n",
    "model_file_name = 'logistic.pkl'"
   ]
  },
  {
   "cell_type": "code",
   "execution_count": 4,
   "metadata": {},
   "outputs": [
    {
     "name": "stdout",
     "output_type": "stream",
     "text": [
      "sum_words:  184645\n"
     ]
    }
   ],
   "source": [
    "# csv파일을 다루기 쉽도록 포맷을 변형합니다.\n",
    "\n",
    "with open(dataset_file_name, 'r') as f:\n",
    "    csv.field_size_limit(1000000)\n",
    "    data = list(csv.reader(f))\n",
    "\n",
    "texts, label_ids = [], []\n",
    "label2id = {}\n",
    "idx_label, idx_sentence = 0, 1\n",
    "sum_words = []\n",
    "\n",
    "for counter, row in enumerate(data):\n",
    "    if counter == 0:\n",
    "        continue\n",
    "    label = row[idx_label]\n",
    "    if label not in label2id:\n",
    "        label2id[label] = len(label2id)\n",
    "    label_ids.append(label2id[label])\n",
    "    word_list = row[idx_sentence].split(' ')\n",
    "    texts.append(word_list)\n",
    "    \n",
    "    for line in word_list:\n",
    "        for word in line:\n",
    "            sum_words.append(word)\n",
    "\n",
    "print('sum_words: ', len(sum_words))\n",
    "id2label = {v: k for k, v in label2id.items()}"
   ]
  },
  {
   "cell_type": "code",
   "execution_count": 5,
   "metadata": {},
   "outputs": [],
   "source": [
    "#　텍스트와 라벨의 데이터를 학습, 테스트에 분할합니다.\n",
    "X_train_texts, X_test_texts, y_train, y_test = train_test_split(texts, label_ids, test_size=0.2, random_state=42)"
   ]
  },
  {
   "cell_type": "code",
   "execution_count": 6,
   "metadata": {},
   "outputs": [],
   "source": [
    "# train의 텍스트 데이터로부터, tfidf로 가중치를 부여한 단어문서 행렬을 작성합니다.\n",
    "\n",
    "# 텍스트 데이터로부터 사전을 작성한다.\n",
    "dictionary = gensim.corpora.Dictionary(X_train_texts)\n",
    "# 사전을 이용하여 BoW형식에 문장을 행렬화합니다.\n",
    "corpus = [dictionary.doc2bow(text) for text in X_train_texts]\n",
    "\n",
    "# BoW형식으로 작성한 corpus를 tfidf를 이용하여 가중치를 부여합니다.\n",
    "tfidf_model = models.TfidfModel(corpus)\n",
    "tfidf_corpus = tfidf_model[corpus]\n",
    "\n",
    "num_words = len(dictionary)\n",
    "X_train_tfidf = gensim.matutils.corpus2dense(tfidf_corpus, num_terms=num_words).T"
   ]
  },
  {
   "cell_type": "code",
   "execution_count": 7,
   "metadata": {},
   "outputs": [],
   "source": [
    "# test의 텍스트 데이터로부터, tfidf로 가중치를 부여한 단어문서 행렬을 작성합니다.\n",
    "\n",
    "# 사전을 이용하여 BoW형식에 문장을 행렬화합니다.\n",
    "corpus = [dictionary.doc2bow(text) for text in X_test_texts]\n",
    "# BoW형식으로 작성한 corpus를 tfidf를 이용하여 가중치를 부여합니다. \n",
    "tfidf_corpus = tfidf_model[corpus]\n",
    "\n",
    "num_words = len(dictionary)\n",
    "X_test_tfidf = gensim.matutils.corpus2dense(tfidf_corpus, num_terms=num_words).T"
   ]
  },
  {
   "cell_type": "code",
   "execution_count": 8,
   "metadata": {},
   "outputs": [
    {
     "data": {
      "text/plain": [
       "LogisticRegression(C=1)"
      ]
     },
     "execution_count": 8,
     "metadata": {},
     "output_type": "execute_result"
    }
   ],
   "source": [
    "# train데이터를 이용하여 분류기를 구축합니다.\n",
    "clf = LogisticRegression(C=1, penalty='l2')\n",
    "clf.fit(X_train_tfidf, y_train)"
   ]
  },
  {
   "cell_type": "code",
   "execution_count": 9,
   "metadata": {},
   "outputs": [
    {
     "name": "stdout",
     "output_type": "stream",
     "text": [
      "              precision    recall  f1-score   support\n",
      "\n",
      "  humanities       0.92      0.87      0.90       460\n",
      "     science       0.87      0.92      0.89       434\n",
      "\n",
      "    accuracy                           0.89       894\n",
      "   macro avg       0.90      0.90      0.89       894\n",
      "weighted avg       0.90      0.89      0.89       894\n",
      "\n",
      "[[402  58]\n",
      " [ 36 398]]\n"
     ]
    }
   ],
   "source": [
    "# test데이터를 이용하여 분류기의 정밀도를 평가합니다.\n",
    "y_pred = clf.predict(X_test_tfidf)\n",
    "target_names = list(id2label.values())\n",
    "\n",
    "print(classification_report(y_test, y_pred, target_names=target_names))\n",
    "print(confusion_matrix(y_test, y_pred))"
   ]
  }
 ],
 "metadata": {
  "kernelspec": {
   "display_name": "Python 3",
   "language": "python",
   "name": "python3"
  },
  "language_info": {
   "codemirror_mode": {
    "name": "ipython",
    "version": 3
   },
   "file_extension": ".py",
   "mimetype": "text/x-python",
   "name": "python",
   "nbconvert_exporter": "python",
   "pygments_lexer": "ipython3",
   "version": "3.7.6"
  }
 },
 "nbformat": 4,
 "nbformat_minor": 2
}
